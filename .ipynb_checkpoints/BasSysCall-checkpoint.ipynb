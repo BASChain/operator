{
 "cells": [
  {
   "cell_type": "code",
   "execution_count": 39,
   "metadata": {},
   "outputs": [
    {
     "name": "stderr",
     "output_type": "stream",
     "text": [
      "/usr/local/lib/python3.6/site-packages/ipykernel_launcher.py:4: FutureWarning: Passing a negative integer is deprecated in version 1.0 and will not be supported in future version. Instead, use None to not limit the column width.\n",
      "  after removing the cwd from sys.path.\n"
     ]
    }
   ],
   "source": [
    "from web3 import Web3, HTTPProvider, IPCProvider, WebsocketProvider\n",
    "import json\n",
    "import pandas as pd\n",
    "pd.set_option('display.max_colwidth', -1)"
   ]
  },
  {
   "cell_type": "code",
   "execution_count": 12,
   "metadata": {},
   "outputs": [],
   "source": [
    "web3 = Web3(HTTPProvider('https://ropsten.infura.io/v3/831ab04fa4964991b5fba5c52106d7b0'))"
   ]
  },
  {
   "cell_type": "markdown",
   "metadata": {},
   "source": [
    "### ASCII & HASH"
   ]
  },
  {
   "cell_type": "code",
   "execution_count": 42,
   "metadata": {},
   "outputs": [
    {
     "name": "stdout",
     "output_type": "stream",
     "text": [
      "0x77736c6940626d61696c\n",
      "0xce06fef589e424b5ffaa3baba459af0bdef28fd6d67861e02853fdca99cc55b2\n"
     ]
    }
   ],
   "source": [
    "text = \"wsli@bmail\"\n",
    "print(Web3.toHex(text = text))\n",
    "print(Web3.keccak(hexstr = Web3.toHex(text = text)).hex())"
   ]
  },
  {
   "cell_type": "markdown",
   "metadata": {},
   "source": [
    "### ASCII to String"
   ]
  },
  {
   "cell_type": "code",
   "execution_count": 14,
   "metadata": {},
   "outputs": [
    {
     "data": {
      "text/plain": [
       "'sunzy'"
      ]
     },
     "execution_count": 14,
     "metadata": {},
     "output_type": "execute_result"
    }
   ],
   "source": [
    "web3.toText( 0x73756e7a79)"
   ]
  },
  {
   "cell_type": "markdown",
   "metadata": {},
   "source": [
    "### Recover Contracts by BasRelations"
   ]
  },
  {
   "cell_type": "code",
   "execution_count": 18,
   "metadata": {
    "jupyter": {
     "source_hidden": true
    }
   },
   "outputs": [],
   "source": [
    "BasRelations_addr = \"0x3cD2E8fA4167232298C7d332A46b78FA937959F2\"\n",
    "BasView_addr = \"0xf3e0222FC99897E3569F4490026D914A9421572a\"\n",
    "\n",
    "with open(\"./abi/BasRelations.abi\") as f:\n",
    "    BasRelations = web3.eth.contract(address=BasRelations_addr, abi=json.load(f))\n",
    "    \n",
    "with open(\"./abi/BasView.abi\") as f:\n",
    "    BasView = web3.eth.contract(address=BasView_addr, abi=json.load(f))\n",
    "\n",
    "with open(\"./abi/BasToken.abi\") as f:\n",
    "    BasToken = web3.eth.contract(address=BasRelations.functions.token().call(), abi=json.load(f))\n",
    "\n",
    "with open(\"./abi/BasExpiredOwnership.abi\") as f:\n",
    "    BasExpiredOwnership = web3.eth.contract(address=BasRelations.functions.exo().call(), abi=json.load(f))\n",
    "\n",
    "with open(\"./abi/BasTradableOwnership.abi\") as f:\n",
    "    BasTradbleOwnership = web3.eth.contract(address=BasRelations.functions.tro().call(), abi=json.load(f))\n",
    "\n",
    "with open(\"./abi/BasRootDomain.abi\") as f:\n",
    "    BasRootDomain = web3.eth.contract(address=BasRelations.functions.root().call(), abi=json.load(f))\n",
    "    \n",
    "with open(\"./abi/BasSubDomain.abi\") as f:\n",
    "    BasSubDomain = web3.eth.contract(address=BasRelations.functions.sub().call(), abi=json.load(f))\n",
    "    \n",
    "with open(\"./abi/BasDomainConf.abi\") as f:\n",
    "    BasDomainConf = web3.eth.contract(address=BasRelations.functions.conf().call(), abi=json.load(f))\n",
    "    \n",
    "with open(\"./abi/BasAccountant.abi\") as f:\n",
    "    BasAccountant = web3.eth.contract(address=BasRelations.functions.acc().call(), abi=json.load(f))\n",
    "    \n",
    "with open(\"./abi/BasMiner.abi\") as f:\n",
    "    BasMiner = web3.eth.contract(address=BasRelations.functions.miner().call(), abi=json.load(f))\n",
    "    \n",
    "with open(\"./abi/BasOANN.abi\") as f:\n",
    "    BasOANN = web3.eth.contract(address=BasRelations.functions.oann().call(), abi=json.load(f))\n",
    "    \n",
    "with open(\"./abi/BasMarket.abi\") as f:\n",
    "    BasMarket = web3.eth.contract(address=BasRelations.functions.market().call(), abi=json.load(f))\n",
    "    \n",
    "with open(\"./abi/BasMail.abi\") as f:\n",
    "    BasMail = web3.eth.contract(address=BasRelations.functions.mail().call(), abi=json.load(f))\n",
    "    \n",
    "with open(\"./abi/BasMailManager.abi\") as f:\n",
    "    BasMailManager = web3.eth.contract(address=BasRelations.functions.mm().call(), abi=json.load(f))"
   ]
  },
  {
   "cell_type": "markdown",
   "metadata": {},
   "source": [
    "### Account Address"
   ]
  },
  {
   "cell_type": "code",
   "execution_count": 49,
   "metadata": {},
   "outputs": [],
   "source": [
    "Account = \"0xC5DA9e80e6d27E4bf14d961EE50bA8596b3974De\""
   ]
  },
  {
   "cell_type": "markdown",
   "metadata": {},
   "source": [
    "### Query Functions"
   ]
  },
  {
   "cell_type": "code",
   "execution_count": 46,
   "metadata": {},
   "outputs": [],
   "source": [
    "def GetDomainInfos(account):\n",
    "    domains = BasTradbleOwnership.functions.assetsOf(0,0).call({\"from\":Account})\n",
    "    info = list(map(lambda x: BasView.functions.queryDomainInfo(x.hex()).call(),domains))\n",
    "    df = pd.DataFrame(columns=[\"name\",\"owner\",\"expiration\",\"isRoot\",\"rIsOpen\",\"rIsCustomed\",\"rIsRare\",\"rCusPrice\",\"sRootHash\",\"isMarketOrder\"],data = info)\n",
    "    df[\"name\"] = df[\"name\"].map(lambda x : web3.toText(x))\n",
    "    df[\"sRootHash\"] = df[\"sRootHash\"].map(lambda x : x.hex())\n",
    "    return df\n",
    "\n",
    "def GetDomainEmailInfos(account):\n",
    "    domains = BasTradbleOwnership.functions.assetsOf(0,0).call({\"from\":Account})\n",
    "    info = list(map(lambda x: BasView.functions.queryDomainEmailInfo(x.hex()).call(),domains))\n",
    "    df = pd.DataFrame(columns=[\"name\",\"owner\",\"expiration\",\"isActive\",\"openToPublic\"],data = info)\n",
    "    df[\"name\"] = df[\"name\"].map(lambda x : web3.toText(x))\n",
    "    return df\n",
    "\n",
    "def GetEmailInfos(account):\n",
    "    domains = BasExpiredOwnership.functions.assetsOf(0,0).call({\"from\":Account})\n",
    "    hashes = pd.DataFrame(columns = [\"mailHash\"], data = domains)\n",
    "    hashes[\"mailHash\"] = hashes[\"mailHash\"].map(lambda x: x.hex())\n",
    "    info = list(map(lambda x: BasView.functions.queryEmailInfo(x.hex()).call(),domains))\n",
    "    df = pd.DataFrame(columns=[\"owner\",\"expiration\",\"domainHash\",\"isValid\",\"aliasName\",\"bcAddress\"],data = info)\n",
    "    df[\"domainHash\"] = df[\"domainHash\"].map(lambda x : x.hex())\n",
    "    df[\"aliasName\"] = df[\"aliasName\"].map(lambda x : web3.toText(x))\n",
    "    df[\"bcAddress\"] = df[\"bcAddress\"].map(lambda x : web3.toText(x))\n",
    "    df = df[[\"aliasName\",\"owner\",\"expiration\",\"domainHash\",\"isValid\",\"bcAddress\"]]\n",
    "    df = pd.concat([hashes, df], axis= 1)\n",
    "    return df"
   ]
  },
  {
   "cell_type": "code",
   "execution_count": 50,
   "metadata": {},
   "outputs": [
    {
     "data": {
      "text/html": [
       "<div>\n",
       "<style scoped>\n",
       "    .dataframe tbody tr th:only-of-type {\n",
       "        vertical-align: middle;\n",
       "    }\n",
       "\n",
       "    .dataframe tbody tr th {\n",
       "        vertical-align: top;\n",
       "    }\n",
       "\n",
       "    .dataframe thead th {\n",
       "        text-align: right;\n",
       "    }\n",
       "</style>\n",
       "<table border=\"1\" class=\"dataframe\">\n",
       "  <thead>\n",
       "    <tr style=\"text-align: right;\">\n",
       "      <th></th>\n",
       "      <th>name</th>\n",
       "      <th>owner</th>\n",
       "      <th>expiration</th>\n",
       "      <th>isRoot</th>\n",
       "      <th>rIsOpen</th>\n",
       "      <th>rIsCustomed</th>\n",
       "      <th>rIsRare</th>\n",
       "      <th>rCusPrice</th>\n",
       "      <th>sRootHash</th>\n",
       "      <th>isMarketOrder</th>\n",
       "    </tr>\n",
       "  </thead>\n",
       "  <tbody>\n",
       "    <tr>\n",
       "      <th>0</th>\n",
       "      <td>bmail1</td>\n",
       "      <td>0xC5DA9e80e6d27E4bf14d961EE50bA8596b3974De</td>\n",
       "      <td>1621656122</td>\n",
       "      <td>True</td>\n",
       "      <td>True</td>\n",
       "      <td>False</td>\n",
       "      <td>True</td>\n",
       "      <td>4000000000000000000</td>\n",
       "      <td>0000000000000000000000000000000000000000000000000000000000000000</td>\n",
       "      <td>False</td>\n",
       "    </tr>\n",
       "    <tr>\n",
       "      <th>1</th>\n",
       "      <td>bmail2</td>\n",
       "      <td>0xC5DA9e80e6d27E4bf14d961EE50bA8596b3974De</td>\n",
       "      <td>1621665469</td>\n",
       "      <td>True</td>\n",
       "      <td>True</td>\n",
       "      <td>False</td>\n",
       "      <td>True</td>\n",
       "      <td>4000000000000000000</td>\n",
       "      <td>0000000000000000000000000000000000000000000000000000000000000000</td>\n",
       "      <td>False</td>\n",
       "    </tr>\n",
       "    <tr>\n",
       "      <th>2</th>\n",
       "      <td>bmail</td>\n",
       "      <td>0xC5DA9e80e6d27E4bf14d961EE50bA8596b3974De</td>\n",
       "      <td>1621675080</td>\n",
       "      <td>True</td>\n",
       "      <td>True</td>\n",
       "      <td>False</td>\n",
       "      <td>True</td>\n",
       "      <td>4000000000000000000</td>\n",
       "      <td>0000000000000000000000000000000000000000000000000000000000000000</td>\n",
       "      <td>False</td>\n",
       "    </tr>\n",
       "  </tbody>\n",
       "</table>\n",
       "</div>"
      ],
      "text/plain": [
       "     name                                       owner  expiration  isRoot  \\\n",
       "0  bmail1  0xC5DA9e80e6d27E4bf14d961EE50bA8596b3974De  1621656122  True     \n",
       "1  bmail2  0xC5DA9e80e6d27E4bf14d961EE50bA8596b3974De  1621665469  True     \n",
       "2  bmail   0xC5DA9e80e6d27E4bf14d961EE50bA8596b3974De  1621675080  True     \n",
       "\n",
       "   rIsOpen  rIsCustomed  rIsRare            rCusPrice  \\\n",
       "0  True     False        True     4000000000000000000   \n",
       "1  True     False        True     4000000000000000000   \n",
       "2  True     False        True     4000000000000000000   \n",
       "\n",
       "                                                          sRootHash  \\\n",
       "0  0000000000000000000000000000000000000000000000000000000000000000   \n",
       "1  0000000000000000000000000000000000000000000000000000000000000000   \n",
       "2  0000000000000000000000000000000000000000000000000000000000000000   \n",
       "\n",
       "   isMarketOrder  \n",
       "0  False          \n",
       "1  False          \n",
       "2  False          "
      ]
     },
     "execution_count": 50,
     "metadata": {},
     "output_type": "execute_result"
    }
   ],
   "source": [
    "GetDomainInfos(Account)"
   ]
  },
  {
   "cell_type": "code",
   "execution_count": 51,
   "metadata": {},
   "outputs": [
    {
     "data": {
      "text/html": [
       "<div>\n",
       "<style scoped>\n",
       "    .dataframe tbody tr th:only-of-type {\n",
       "        vertical-align: middle;\n",
       "    }\n",
       "\n",
       "    .dataframe tbody tr th {\n",
       "        vertical-align: top;\n",
       "    }\n",
       "\n",
       "    .dataframe thead th {\n",
       "        text-align: right;\n",
       "    }\n",
       "</style>\n",
       "<table border=\"1\" class=\"dataframe\">\n",
       "  <thead>\n",
       "    <tr style=\"text-align: right;\">\n",
       "      <th></th>\n",
       "      <th>name</th>\n",
       "      <th>owner</th>\n",
       "      <th>expiration</th>\n",
       "      <th>isActive</th>\n",
       "      <th>openToPublic</th>\n",
       "    </tr>\n",
       "  </thead>\n",
       "  <tbody>\n",
       "    <tr>\n",
       "      <th>0</th>\n",
       "      <td>bmail1</td>\n",
       "      <td>0xC5DA9e80e6d27E4bf14d961EE50bA8596b3974De</td>\n",
       "      <td>1621656122</td>\n",
       "      <td>False</td>\n",
       "      <td>False</td>\n",
       "    </tr>\n",
       "    <tr>\n",
       "      <th>1</th>\n",
       "      <td>bmail2</td>\n",
       "      <td>0xC5DA9e80e6d27E4bf14d961EE50bA8596b3974De</td>\n",
       "      <td>1621665469</td>\n",
       "      <td>False</td>\n",
       "      <td>False</td>\n",
       "    </tr>\n",
       "    <tr>\n",
       "      <th>2</th>\n",
       "      <td>bmail</td>\n",
       "      <td>0xC5DA9e80e6d27E4bf14d961EE50bA8596b3974De</td>\n",
       "      <td>1621675080</td>\n",
       "      <td>True</td>\n",
       "      <td>True</td>\n",
       "    </tr>\n",
       "  </tbody>\n",
       "</table>\n",
       "</div>"
      ],
      "text/plain": [
       "     name                                       owner  expiration  isActive  \\\n",
       "0  bmail1  0xC5DA9e80e6d27E4bf14d961EE50bA8596b3974De  1621656122  False      \n",
       "1  bmail2  0xC5DA9e80e6d27E4bf14d961EE50bA8596b3974De  1621665469  False      \n",
       "2  bmail   0xC5DA9e80e6d27E4bf14d961EE50bA8596b3974De  1621675080  True       \n",
       "\n",
       "   openToPublic  \n",
       "0  False         \n",
       "1  False         \n",
       "2  True          "
      ]
     },
     "execution_count": 51,
     "metadata": {},
     "output_type": "execute_result"
    }
   ],
   "source": [
    "GetDomainEmailInfos(Account)"
   ]
  },
  {
   "cell_type": "code",
   "execution_count": 52,
   "metadata": {},
   "outputs": [
    {
     "data": {
      "text/html": [
       "<div>\n",
       "<style scoped>\n",
       "    .dataframe tbody tr th:only-of-type {\n",
       "        vertical-align: middle;\n",
       "    }\n",
       "\n",
       "    .dataframe tbody tr th {\n",
       "        vertical-align: top;\n",
       "    }\n",
       "\n",
       "    .dataframe thead th {\n",
       "        text-align: right;\n",
       "    }\n",
       "</style>\n",
       "<table border=\"1\" class=\"dataframe\">\n",
       "  <thead>\n",
       "    <tr style=\"text-align: right;\">\n",
       "      <th></th>\n",
       "      <th>mailHash</th>\n",
       "      <th>aliasName</th>\n",
       "      <th>owner</th>\n",
       "      <th>expiration</th>\n",
       "      <th>domainHash</th>\n",
       "      <th>isValid</th>\n",
       "      <th>bcAddress</th>\n",
       "    </tr>\n",
       "  </thead>\n",
       "  <tbody>\n",
       "    <tr>\n",
       "      <th>0</th>\n",
       "      <td>50cd69341246ab394b421b98ed926e6f3b679444edcf057b1a10d108e48c9857</td>\n",
       "      <td>sunzy@bmail</td>\n",
       "      <td>0xC5DA9e80e6d27E4bf14d961EE50bA8596b3974De</td>\n",
       "      <td>1621666796</td>\n",
       "      <td>9340a8b9bee032c268c2a65cf10e7ae1ffc7e1b184903e1702fae2fefc80642f</td>\n",
       "      <td>True</td>\n",
       "      <td></td>\n",
       "    </tr>\n",
       "  </tbody>\n",
       "</table>\n",
       "</div>"
      ],
      "text/plain": [
       "                                                           mailHash  \\\n",
       "0  50cd69341246ab394b421b98ed926e6f3b679444edcf057b1a10d108e48c9857   \n",
       "\n",
       "     aliasName                                       owner  expiration  \\\n",
       "0  sunzy@bmail  0xC5DA9e80e6d27E4bf14d961EE50bA8596b3974De  1621666796   \n",
       "\n",
       "                                                         domainHash  isValid  \\\n",
       "0  9340a8b9bee032c268c2a65cf10e7ae1ffc7e1b184903e1702fae2fefc80642f  True      \n",
       "\n",
       "  bcAddress  \n",
       "0            "
      ]
     },
     "execution_count": 52,
     "metadata": {},
     "output_type": "execute_result"
    }
   ],
   "source": [
    "GetEmailInfos(Account)"
   ]
  },
  {
   "cell_type": "code",
   "execution_count": null,
   "metadata": {},
   "outputs": [],
   "source": []
  }
 ],
 "metadata": {
  "kernelspec": {
   "display_name": "Python 3",
   "language": "python",
   "name": "python3"
  },
  "language_info": {
   "codemirror_mode": {
    "name": "ipython",
    "version": 3
   },
   "file_extension": ".py",
   "mimetype": "text/x-python",
   "name": "python",
   "nbconvert_exporter": "python",
   "pygments_lexer": "ipython3",
   "version": "3.6.8"
  }
 },
 "nbformat": 4,
 "nbformat_minor": 4
}
